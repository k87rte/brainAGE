{
 "cells": [
  {
   "attachments": {},
   "cell_type": "markdown",
   "metadata": {},
   "source": [
    "## Few imports"
   ]
  },
  {
   "cell_type": "code",
   "execution_count": 3,
   "metadata": {},
   "outputs": [],
   "source": [
    "import numpy as np\n",
    "import pandas as pd\n",
    "import nibabel as nib\n",
    "import matplotlib.pyplot as plt\n",
    "from tqdm import tqdm\n",
    "from nilearn import plotting\n",
    "from nibabel import processing\n",
    "from joblib import Parallel, delayed\n",
    "import sklearn\n"
   ]
  },
  {
   "attachments": {},
   "cell_type": "markdown",
   "metadata": {},
   "source": [
    "# Set-up root and read demography"
   ]
  },
  {
   "cell_type": "code",
   "execution_count": 7,
   "metadata": {},
   "outputs": [
    {
     "name": "stdout",
     "output_type": "stream",
     "text": [
      "dataset is of shape: (565, 12)\n"
     ]
    },
    {
     "data": {
      "text/html": [
       "<div>\n",
       "<style scoped>\n",
       "    .dataframe tbody tr th:only-of-type {\n",
       "        vertical-align: middle;\n",
       "    }\n",
       "\n",
       "    .dataframe tbody tr th {\n",
       "        vertical-align: top;\n",
       "    }\n",
       "\n",
       "    .dataframe thead th {\n",
       "        text-align: right;\n",
       "    }\n",
       "</style>\n",
       "<table border=\"1\" class=\"dataframe\">\n",
       "  <thead>\n",
       "    <tr style=\"text-align: right;\">\n",
       "      <th></th>\n",
       "      <th>IXI_ID</th>\n",
       "      <th>SEX_ID (1=m, 2=f)</th>\n",
       "      <th>AGE</th>\n",
       "    </tr>\n",
       "  </thead>\n",
       "  <tbody>\n",
       "    <tr>\n",
       "      <th>1</th>\n",
       "      <td>2</td>\n",
       "      <td>2</td>\n",
       "      <td>35.800137</td>\n",
       "    </tr>\n",
       "    <tr>\n",
       "      <th>2</th>\n",
       "      <td>12</td>\n",
       "      <td>1</td>\n",
       "      <td>38.781656</td>\n",
       "    </tr>\n",
       "    <tr>\n",
       "      <th>3</th>\n",
       "      <td>13</td>\n",
       "      <td>1</td>\n",
       "      <td>46.710472</td>\n",
       "    </tr>\n",
       "    <tr>\n",
       "      <th>4</th>\n",
       "      <td>14</td>\n",
       "      <td>2</td>\n",
       "      <td>34.236824</td>\n",
       "    </tr>\n",
       "    <tr>\n",
       "      <th>5</th>\n",
       "      <td>15</td>\n",
       "      <td>1</td>\n",
       "      <td>24.284736</td>\n",
       "    </tr>\n",
       "  </tbody>\n",
       "</table>\n",
       "</div>"
      ],
      "text/plain": [
       "   IXI_ID  SEX_ID (1=m, 2=f)        AGE\n",
       "1       2                  2  35.800137\n",
       "2      12                  1  38.781656\n",
       "3      13                  1  46.710472\n",
       "4      14                  2  34.236824\n",
       "5      15                  1  24.284736"
      ]
     },
     "execution_count": 7,
     "metadata": {},
     "output_type": "execute_result"
    }
   ],
   "source": [
    "rootDir = '../../../Desktop/data'\n",
    "df = pd.read_excel(f'{rootDir}/IXI.xls')\n",
    "df.dropna(inplace=True)\n",
    "df.drop_duplicates(subset='IXI_ID',keep='last', inplace=True)\n",
    "print(f'dataset is of shape: {df.shape}')\n",
    "df.drop(columns=['HEIGHT','WEIGHT','ETHNIC_ID','MARITAL_ID','OCCUPATION_ID','QUALIFICATION_ID','DOB','DATE_AVAILABLE','STUDY_DATE'],\n",
    "        axis=1, inplace=True)\n",
    "df.head()"
   ]
  },
  {
   "attachments": {},
   "cell_type": "markdown",
   "metadata": {},
   "source": [
    "# Load MRI data and reslice to reduce memory "
   ]
  },
  {
   "cell_type": "code",
   "execution_count": 9,
   "metadata": {},
   "outputs": [
    {
     "name": "stdout",
     "output_type": "stream",
     "text": [
      "File not found for IXI_ID: 116\n",
      "File not found for IXI_ID: 182\n",
      "File not found for IXI_ID: 309\n",
      "File not found for IXI_ID: 500\n",
      "File not found for IXI_ID: 580\n",
      "File not found for IXI_ID: 628\n"
     ]
    },
    {
     "name": "stderr",
     "output_type": "stream",
     "text": [
      "100%|██████████| 559/559 [00:53<00:00, 10.50it/s]\n"
     ]
    }
   ],
   "source": [
    "images = []\n",
    "id = []\n",
    "for ids in df['IXI_ID']:\n",
    "    try:\n",
    "        image = nib.load(f'{rootDir}/mwp1p2/mwp1IXI{str(ids).zfill(3)}_T1.nii')\n",
    "        images.append(image)\n",
    "        id.append(ids)\n",
    "    except FileNotFoundError:\n",
    "        print(f'File not found for IXI_ID: {ids}')\n",
    "reslice = Parallel(n_jobs=10)(\n",
    "            delayed(processing.resample_to_output)(image, voxel_sizes=(2,2,2))\n",
    "            for image in images\n",
    ")\n"
   ]
  },
  {
   "attachments": {},
   "cell_type": "markdown",
   "metadata": {},
   "source": [
    "Apply FWHM = 4mm"
   ]
  },
  {
   "cell_type": "code",
   "execution_count": 10,
   "metadata": {},
   "outputs": [
    {
     "name": "stderr",
     "output_type": "stream",
     "text": [
      "100%|██████████| 559/559 [00:11<00:00, 46.74it/s]\n"
     ]
    }
   ],
   "source": [
    "# if there are multiple cores available\n",
    "# smoothed_images = Parallel(n_jobs=-1)(\n",
    "#     delayed(processing.smooth_image)(reslice_image, fwhm=4.0)\n",
    "#     for reslice_image in reslice\n",
    "# )\n",
    "smooth = [processing.smooth_image(reslice_image, fwhm=4) for reslice_image in tqdm(reslice)]"
   ]
  },
  {
   "attachments": {},
   "cell_type": "markdown",
   "metadata": {},
   "source": [
    "Plot one image to see what it looks like"
   ]
  },
  {
   "cell_type": "code",
   "execution_count": 11,
   "metadata": {},
   "outputs": [
    {
     "data": {
      "text/plain": [
       "Text(0.5, 1.0, 'gray matter segmentation of T1w-MRI image')"
      ]
     },
     "execution_count": 11,
     "metadata": {},
     "output_type": "execute_result"
    },
    {
     "data": {
      "image/png": "[encoded data removed]",
      "text/plain": [
       "<Figure size 500x200 with 4 Axes>"
      ]
     },
     "metadata": {},
     "output_type": "display_data"
    }
   ],
   "source": [
    "fig, ax = plt.subplots(figsize=(5,2))\n",
    "plotting.plot_anat(images[0], axes=ax, draw_cross=False)\n",
    "ax.set_title('gray matter segmentation of T1w-MRI image')"
   ]
  },
  {
   "attachments": {},
   "cell_type": "markdown",
   "metadata": {},
   "source": [
    "Apply PCA on the feature set with 10-20 components. Otherwise, the feature set will be of size 9135399 (or) ~9Million. This is also the reason, why we reslice the image."
   ]
  },
  {
   "cell_type": "code",
   "execution_count": 12,
   "metadata": {},
   "outputs": [
    {
     "name": "stderr",
     "output_type": "stream",
     "text": [
      "100%|██████████| 559/559 [00:04<00:00, 130.69it/s]\n"
     ]
    }
   ],
   "source": [
    "# flatten the images\n",
    "features = [np.array(smooth[i].get_fdata()).flatten() for i in tqdm(range(0,len(smooth)))]\n",
    "\n",
    "# scale the features for PCA\n",
    "stdScalar = sklearn.preprocessing.StandardScaler()\n",
    "features = stdScalar.fit_transform(features)\n",
    "\n",
    "# apply PCA\n",
    "pca = sklearn.decomposition.PCA(n_components = 20)\n",
    "components = pca.fit_transform(features)\n",
    "\n",
    "X = components\n",
    "y = df[df['IXI_ID'].isin(id)]['AGE']\n"
   ]
  },
  {
   "attachments": {},
   "cell_type": "markdown",
   "metadata": {},
   "source": [
    "# nested approach"
   ]
  },
  {
   "cell_type": "code",
   "execution_count": 54,
   "metadata": {},
   "outputs": [
    {
     "name": "stdout",
     "output_type": "stream",
     "text": [
      "Fitting 10 folds for each of 7 candidates, totalling 70 fits\n",
      "mean absolute error of fold 0 is: 8.23\n",
      "************************\n",
      "Fitting 10 folds for each of 7 candidates, totalling 70 fits\n",
      "mean absolute error of fold 0 is: 9.13\n",
      "************************\n",
      "Fitting 10 folds for each of 7 candidates, totalling 70 fits\n",
      "mean absolute error of fold 0 is: 7.09\n",
      "************************\n",
      "Fitting 10 folds for each of 7 candidates, totalling 70 fits\n",
      "mean absolute error of fold 0 is: 7.1\n",
      "************************\n",
      "Fitting 10 folds for each of 7 candidates, totalling 70 fits\n",
      "mean absolute error of fold 0 is: 8.74\n",
      "************************\n",
      "Fitting 10 folds for each of 7 candidates, totalling 70 fits\n",
      "mean absolute error of fold 0 is: 6.06\n",
      "************************\n",
      "Fitting 10 folds for each of 7 candidates, totalling 70 fits\n",
      "mean absolute error of fold 0 is: 7.05\n",
      "************************\n",
      "Fitting 10 folds for each of 7 candidates, totalling 70 fits\n",
      "mean absolute error of fold 0 is: 7.53\n",
      "************************\n",
      "Fitting 10 folds for each of 7 candidates, totalling 70 fits\n",
      "mean absolute error of fold 0 is: 6.61\n",
      "************************\n",
      "Fitting 10 folds for each of 7 candidates, totalling 70 fits\n",
      "mean absolute error of fold 0 is: 11.12\n",
      "************************\n",
      "mean absolute error Final 0 is: 7.86\n"
     ]
    }
   ],
   "source": [
    "from sklearn.pipeline import Pipeline\n",
    "from sklearn.linear_model import Ridge\n",
    "from sklearn.model_selection import KFold, GridSearchCV\n",
    "from sklearn.metrics import mean_absolute_error as mae\n",
    "\n",
    "model = Pipeline([('ridge', Ridge(max_iter=1000))])\n",
    "              \n",
    "p_grid= {'ridge__alpha': [0.001, 0.01, 0.1, 1, 10, 100, 1000]}\n",
    "in_cv = KFold(n_splits=10, shuffle=True, random_state=42)\n",
    "out_cv = KFold(n_splits=10, shuffle=True, random_state=42)\n",
    "\n",
    "mae_per_fold = []\n",
    "# define gridSearch\n",
    "clf = GridSearchCV(estimator=model,\n",
    "                   param_grid=p_grid,\n",
    "                   cv=in_cv,\n",
    "                   verbose=True)\n",
    "\n",
    "pred = np.zeros(len(y))\n",
    "count = 0\n",
    "for train,test in out_cv.split(X, y):\n",
    "    clf.fit(X[train], y.iloc[train])\n",
    "    pred[test] = clf.predict(X[test])\n",
    "\n",
    "    MAE =mae(pred[test], y.iloc[test])\n",
    "    print(f'mean absolute error of fold {count} is: {round(MAE,2)}')\n",
    "    print('************************')\n",
    "    mae_per_fold.append(MAE)\n",
    "    count += count\n",
    "mae_final = mae(pred, y)\n",
    "print(f'mean absolute error Final {count} is: {round(mae_final,2)}')"
   ]
  },
  {
   "cell_type": "code",
   "execution_count": 47,
   "metadata": {},
   "outputs": [
    {
     "name": "stdout",
     "output_type": "stream",
     "text": [
      "7.859004509837907\n"
     ]
    }
   ],
   "source": []
  }
 ],
 "metadata": {
  "kernelspec": {
   "display_name": "Python 3.9.12 ('base')",
   "language": "python",
   "name": "python3"
  },
  "language_info": {
   "codemirror_mode": {
    "name": "ipython",
    "version": 3
   },
   "file_extension": ".py",
   "mimetype": "text/x-python",
   "name": "python",
   "nbconvert_exporter": "python",
   "pygments_lexer": "ipython3",
   "version": "3.11.4"
  },
  "orig_nbformat": 4,
  "vscode": {
   "interpreter": {
    "hash": "65a9ca1f766fef69bb31049a8a74c9920d789345f3744219e3aced20330731d7"
   }
  }
 },
 "nbformat": 4,
 "nbformat_minor": 2
}
