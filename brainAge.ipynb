{
 "cells": [
  {
   "cell_type": "markdown",
   "metadata": {},
   "source": [
    "## Few imports"
   ]
  },
  {
   "cell_type": "code",
   "execution_count": 15,
   "metadata": {},
   "outputs": [],
   "source": [
    "import numpy as np\n",
    "import pandas as pd\n",
    "import nibabel as nib\n",
    "import matplotlib.pyplot as plt\n",
    "from tqdm import tqdm\n",
    "from nilearn import plotting\n",
    "from nibabel import processing\n",
    "from joblib import Parallel, delayed\n",
    "import sklearn"
   ]
  },
  {
   "cell_type": "markdown",
   "metadata": {},
   "source": [
    "# Set-up root and read demography"
   ]
  },
  {
   "cell_type": "code",
   "execution_count": 2,
   "metadata": {},
   "outputs": [
    {
     "name": "stdout",
     "output_type": "stream",
     "text": [
      "dataset is of shape: (565, 12)\n"
     ]
    },
    {
     "data": {
      "text/html": [
       "<div>\n",
       "<style scoped>\n",
       "    .dataframe tbody tr th:only-of-type {\n",
       "        vertical-align: middle;\n",
       "    }\n",
       "\n",
       "    .dataframe tbody tr th {\n",
       "        vertical-align: top;\n",
       "    }\n",
       "\n",
       "    .dataframe thead th {\n",
       "        text-align: right;\n",
       "    }\n",
       "</style>\n",
       "<table border=\"1\" class=\"dataframe\">\n",
       "  <thead>\n",
       "    <tr style=\"text-align: right;\">\n",
       "      <th></th>\n",
       "      <th>IXI_ID</th>\n",
       "      <th>SEX_ID (1=m, 2=f)</th>\n",
       "      <th>AGE</th>\n",
       "    </tr>\n",
       "  </thead>\n",
       "  <tbody>\n",
       "    <tr>\n",
       "      <th>1</th>\n",
       "      <td>2</td>\n",
       "      <td>2</td>\n",
       "      <td>35.800137</td>\n",
       "    </tr>\n",
       "    <tr>\n",
       "      <th>2</th>\n",
       "      <td>12</td>\n",
       "      <td>1</td>\n",
       "      <td>38.781656</td>\n",
       "    </tr>\n",
       "    <tr>\n",
       "      <th>3</th>\n",
       "      <td>13</td>\n",
       "      <td>1</td>\n",
       "      <td>46.710472</td>\n",
       "    </tr>\n",
       "    <tr>\n",
       "      <th>4</th>\n",
       "      <td>14</td>\n",
       "      <td>2</td>\n",
       "      <td>34.236824</td>\n",
       "    </tr>\n",
       "    <tr>\n",
       "      <th>5</th>\n",
       "      <td>15</td>\n",
       "      <td>1</td>\n",
       "      <td>24.284736</td>\n",
       "    </tr>\n",
       "  </tbody>\n",
       "</table>\n",
       "</div>"
      ],
      "text/plain": [
       "   IXI_ID  SEX_ID (1=m, 2=f)        AGE\n",
       "1       2                  2  35.800137\n",
       "2      12                  1  38.781656\n",
       "3      13                  1  46.710472\n",
       "4      14                  2  34.236824\n",
       "5      15                  1  24.284736"
      ]
     },
     "execution_count": 2,
     "metadata": {},
     "output_type": "execute_result"
    }
   ],
   "source": [
    "rootDir = '../../../gitProjects/brainage'\n",
    "df = pd.read_excel(f'{rootDir}/IXI.xls')\n",
    "df.dropna(inplace=True)\n",
    "df.drop_duplicates(subset='IXI_ID',keep='last', inplace=True)\n",
    "print(f'dataset is of shape: {df.shape}')\n",
    "df.drop(columns=['HEIGHT','WEIGHT','ETHNIC_ID','MARITAL_ID','OCCUPATION_ID','QUALIFICATION_ID','DOB','DATE_AVAILABLE','STUDY_DATE'],\n",
    "        axis=1, inplace=True)\n",
    "df.head()"
   ]
  },
  {
   "cell_type": "markdown",
   "metadata": {},
   "source": [
    "# Load MRI data and reslice to reduce memory "
   ]
  },
  {
   "cell_type": "code",
   "execution_count": 3,
   "metadata": {},
   "outputs": [
    {
     "name": "stdout",
     "output_type": "stream",
     "text": [
      "File not found for IXI_ID: 116\n",
      "File not found for IXI_ID: 182\n",
      "File not found for IXI_ID: 309\n",
      "File not found for IXI_ID: 500\n",
      "File not found for IXI_ID: 580\n",
      "File not found for IXI_ID: 628\n"
     ]
    },
    {
     "name": "stderr",
     "output_type": "stream",
     "text": [
      "100%|██████████| 559/559 [05:55<00:00,  1.57it/s]\n"
     ]
    }
   ],
   "source": [
    "images = []\n",
    "id = []\n",
    "for ids in df['IXI_ID']:\n",
    "    try:\n",
    "        image = nib.load(f'{rootDir}/mwp1/mwp1IXI{str(ids).zfill(3)}_T1.nii')\n",
    "        images.append(image)\n",
    "        id.append(ids)\n",
    "    except FileNotFoundError:\n",
    "        print(f'File not found for IXI_ID: {ids}')\n",
    "reslice = [processing.resample_to_output(image, voxel_sizes=(2,2,2)) for image in tqdm(images)]\n"
   ]
  },
  {
   "cell_type": "markdown",
   "metadata": {},
   "source": [
    "Apply FWHM = 4mm"
   ]
  },
  {
   "cell_type": "code",
   "execution_count": 4,
   "metadata": {},
   "outputs": [
    {
     "name": "stderr",
     "output_type": "stream",
     "text": [
      "100%|██████████| 559/559 [00:18<00:00, 29.97it/s]\n"
     ]
    }
   ],
   "source": [
    "# if there are multiple cores available\n",
    "# smoothed_images = Parallel(n_jobs=-1)(\n",
    "#     delayed(processing.smooth_image)(reslice_image, fwhm=4.0)\n",
    "#     for reslice_image in reslice\n",
    "# )\n",
    "smooth = [processing.smooth_image(reslice_image, fwhm=4) for reslice_image in tqdm(reslice)]"
   ]
  },
  {
   "cell_type": "markdown",
   "metadata": {},
   "source": [
    "Plot one image to see what it looks like"
   ]
  },
  {
   "cell_type": "code",
   "execution_count": 5,
   "metadata": {},
   "outputs": [
    {
     "data": {
      "text/plain": [
       "Text(0.5, 1.0, 'gray matter segmentation of T1w-MRI image')"
      ]
     },
     "execution_count": 5,
     "metadata": {},
     "output_type": "execute_result"
    },
    {
     "data": {
      "image/png": "[encoded data removed]",
      "text/plain": [
       "<Figure size 500x200 with 4 Axes>"
      ]
     },
     "metadata": {},
     "output_type": "display_data"
    }
   ],
   "source": [
    "fig, ax = plt.subplots(figsize=(5,2))\n",
    "plotting.plot_anat(images[0], axes=ax, draw_cross=False)\n",
    "ax.set_title('gray matter segmentation of T1w-MRI image')"
   ]
  },
  {
   "cell_type": "code",
   "execution_count": 7,
   "metadata": {},
   "outputs": [
    {
     "data": {
      "text/plain": [
       "9135399"
      ]
     },
     "execution_count": 7,
     "metadata": {},
     "output_type": "execute_result"
    }
   ],
   "source": [
    "921*109*91"
   ]
  },
  {
   "cell_type": "markdown",
   "metadata": {},
   "source": [
    "Apply PCA on the feature set with 10-20 components. Otherwise, the feature set will be of size 9135399 (or) ~9Million. This is also the reason, why we reslice the image."
   ]
  },
  {
   "cell_type": "code",
   "execution_count": 12,
   "metadata": {},
   "outputs": [
    {
     "name": "stderr",
     "output_type": "stream",
     "text": [
      "100%|██████████| 559/559 [00:28<00:00, 19.84it/s]\n"
     ]
    }
   ],
   "source": [
    "# flatten the images\n",
    "features = [np.array(smooth[i].get_fdata()).flatten() for i in tqdm(range(0,len(smooth)))]\n"
   ]
  },
  {
   "cell_type": "code",
   "execution_count": 19,
   "metadata": {},
   "outputs": [
    {
     "ename": "",
     "evalue": "",
     "output_type": "error",
     "traceback": [
      "\u001b[1;31mThe Kernel crashed while executing code in the the current cell or a previous cell. Please review the code in the cell(s) to identify a possible cause of the failure. Click <a href='https://aka.ms/vscodeJupyterKernelCrash'>here</a> for more info. View Jupyter <a href='command:jupyter.viewOutput'>log</a> for further details."
     ]
    },
    {
     "ename": "",
     "evalue": "",
     "output_type": "error",
     "traceback": [
      "\u001b[1;31mCanceled future for execute_request message before replies were done"
     ]
    }
   ],
   "source": [
    "pca = sklearn.decomposition.PCA(n_components = 20)\n",
    "modelFit = pca.fit(features)\n",
    "results = modelFit"
   ]
  }
 ],
 "metadata": {
  "kernelspec": {
   "display_name": "Python 3.9.12 ('base')",
   "language": "python",
   "name": "python3"
  },
  "language_info": {
   "codemirror_mode": {
    "name": "ipython",
    "version": 3
   },
   "file_extension": ".py",
   "mimetype": "text/x-python",
   "name": "python",
   "nbconvert_exporter": "python",
   "pygments_lexer": "ipython3",
   "version": "3.9.12"
  },
  "orig_nbformat": 4,
  "vscode": {
   "interpreter": {
    "hash": "65a9ca1f766fef69bb31049a8a74c9920d789345f3744219e3aced20330731d7"
   }
  }
 },
 "nbformat": 4,
 "nbformat_minor": 2
}
